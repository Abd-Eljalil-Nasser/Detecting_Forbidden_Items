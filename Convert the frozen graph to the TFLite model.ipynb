{
 "cells": [
  {
   "cell_type": "code",
   "execution_count": 4,
   "metadata": {},
   "outputs": [
    {
     "data": {
      "text/plain": [
       "22313812"
      ]
     },
     "execution_count": 4,
     "metadata": {},
     "output_type": "execute_result"
    }
   ],
   "source": [
    "import tensorflow as tf\n",
    "graph_def_file = \"inference_graph_for_android_isA/tflite_graph.pb\"\n",
    "input_arrays = [\"normalized_input_image_tensor\"]\n",
    "# output_arrays = [\"detection_boxes\", \"detection_classes\", \"detection_scores\", \"num_boxes\"]\n",
    "output_arrays = ['TFLite_Detection_PostProcess', 'TFLite_Detection_PostProcess:1',\n",
    "        'TFLite_Detection_PostProcess:2', 'TFLite_Detection_PostProcess:3']\n",
    "\n",
    "converter = tf.lite.TFLiteConverter.from_frozen_graph(\n",
    "  graph_def_file, \n",
    "  input_arrays, \n",
    "  output_arrays, \n",
    "  input_shapes={'normalized_input_image_tensor':[1, 300, 300, 3]}\n",
    "  )\n",
    "converter.allow_custom_ops = True\n",
    "tflite_model = converter.convert()\n",
    "open(\"converted_model.tflite\", \"wb\").write(tflite_model)"
   ]
  },
  {
   "cell_type": "code",
   "execution_count": null,
   "metadata": {},
   "outputs": [],
   "source": []
  }
 ],
 "metadata": {
  "kernelspec": {
   "display_name": "Python 3",
   "language": "python",
   "name": "python3"
  },
  "language_info": {
   "codemirror_mode": {
    "name": "ipython",
    "version": 3
   },
   "file_extension": ".py",
   "mimetype": "text/x-python",
   "name": "python",
   "nbconvert_exporter": "python",
   "pygments_lexer": "ipython3",
   "version": "3.7.7"
  }
 },
 "nbformat": 4,
 "nbformat_minor": 4
}
