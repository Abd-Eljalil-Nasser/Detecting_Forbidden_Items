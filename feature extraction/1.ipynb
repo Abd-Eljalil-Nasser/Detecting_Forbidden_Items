{
 "cells": [
  {
   "cell_type": "code",
   "execution_count": 1,
   "metadata": {},
   "outputs": [],
   "source": [
    "import pandas as pd"
   ]
  },
  {
   "cell_type": "code",
   "execution_count": 2,
   "metadata": {},
   "outputs": [],
   "source": [
    "train = pd.read_csv(\"train.csv\",index_col=[0])\n",
    "test = pd.read_csv(\"test.csv\",index_col=[0])"
   ]
  },
  {
   "cell_type": "code",
   "execution_count": 3,
   "metadata": {},
   "outputs": [
    {
     "name": "stdout",
     "output_type": "stream",
     "text": [
      "<class 'pandas.core.frame.DataFrame'>\n",
      "Index: 843759 entries, P03198 to N0320814\n",
      "Data columns (total 5 columns):\n",
      " #   Column    Non-Null Count   Dtype\n",
      "---  ------    --------------   -----\n",
      " 0   Gun       843759 non-null  int64\n",
      " 1   Knife     843759 non-null  int64\n",
      " 2   Wrench    843759 non-null  int64\n",
      " 3   Pliers    843759 non-null  int64\n",
      " 4   Scissors  843759 non-null  int64\n",
      "dtypes: int64(5)\n",
      "memory usage: 38.6+ MB\n",
      "None\n"
     ]
    }
   ],
   "source": [
    "print(train.info())"
   ]
  },
  {
   "cell_type": "code",
   "execution_count": 4,
   "metadata": {},
   "outputs": [
    {
     "name": "stdout",
     "output_type": "stream",
     "text": [
      "        Gun  Knife  Wrench  Pliers  Scissors\n",
      "name                                        \n",
      "P03198    1     -1       1      -1        -1\n",
      "P02604    1     -1      -1      -1        -1\n",
      "P02457    1     -1      -1      -1        -1\n",
      "P03561    1      1       1       1        -1\n",
      "P00087    1      1      -1      -1        -1\n",
      "P02998    1     -1      -1      -1        -1\n",
      "P01999    1     -1      -1      -1        -1\n",
      "P02700    1      1      -1      -1        -1\n",
      "P02441    1     -1      -1      -1        -1\n",
      "P00793    1      1       1       1        -1\n",
      "P02614    1      1      -1      -1        -1\n",
      "P00591    1      1       1      -1        -1\n",
      "P03190    1     -1      -1      -1        -1\n",
      "P01900    1     -1      -1      -1        -1\n",
      "P02753    1     -1      -1      -1        -1\n",
      "P01468    1     -1      -1      -1        -1\n",
      "P02709    1      1      -1      -1        -1\n",
      "P03683    1     -1      -1      -1        -1\n",
      "P00157    1      1      -1      -1        -1\n",
      "P03072    1      1      -1      -1        -1\n"
     ]
    }
   ],
   "source": [
    "print(train.head(20)) "
   ]
  },
  {
   "cell_type": "code",
   "execution_count": 5,
   "metadata": {},
   "outputs": [
    {
     "name": "stdout",
     "output_type": "stream",
     "text": [
      "<class 'pandas.core.frame.DataFrame'>\n",
      "Index: 211152 entries, P00007 to N0536797\n",
      "Data columns (total 5 columns):\n",
      " #   Column    Non-Null Count   Dtype\n",
      "---  ------    --------------   -----\n",
      " 0   Gun       211152 non-null  int64\n",
      " 1   Knife     211152 non-null  int64\n",
      " 2   Wrench    211152 non-null  int64\n",
      " 3   Pliers    211152 non-null  int64\n",
      " 4   Scissors  211152 non-null  int64\n",
      "dtypes: int64(5)\n",
      "memory usage: 9.7+ MB\n",
      "None\n"
     ]
    }
   ],
   "source": [
    "print(test.info())"
   ]
  },
  {
   "cell_type": "code",
   "execution_count": 6,
   "metadata": {},
   "outputs": [
    {
     "name": "stdout",
     "output_type": "stream",
     "text": [
      "        Gun  Knife  Wrench  Pliers  Scissors\n",
      "name                                        \n",
      "P00007   -1      1      -1      -1        -1\n",
      "P00010   -1      1      -1      -1        -1\n",
      "P00022   -1      1      -1      -1        -1\n",
      "P00024   -1      1      -1      -1        -1\n",
      "P00028   -1      1      -1      -1        -1\n",
      "P00066   -1      1      -1      -1        -1\n",
      "P00073   -1      1      -1      -1        -1\n",
      "P00078   -1      1      -1      -1        -1\n",
      "P00120    1      1      -1      -1        -1\n",
      "P00124    1      1      -1      -1        -1\n",
      "P00151    1      1      -1      -1        -1\n",
      "P00161    1      1      -1      -1        -1\n",
      "P00174    1      1      -1      -1        -1\n",
      "P00178    1      1      -1      -1        -1\n",
      "P00209   -1      1      -1      -1        -1\n",
      "P00213   -1      1      -1      -1        -1\n",
      "P00225    1      1      -1      -1        -1\n",
      "P00234   -1      1      -1      -1        -1\n",
      "P00246   -1      1      -1      -1        -1\n",
      "P00248   -1      1      -1      -1        -1\n"
     ]
    }
   ],
   "source": [
    "print(test.head(20)) "
   ]
  },
  {
   "cell_type": "code",
   "execution_count": 7,
   "metadata": {},
   "outputs": [],
   "source": [
    "data = pd.concat([train, test], axis=0, join='inner').sort_index()"
   ]
  },
  {
   "cell_type": "code",
   "execution_count": 8,
   "metadata": {
    "scrolled": true
   },
   "outputs": [
    {
     "name": "stdout",
     "output_type": "stream",
     "text": [
      "<class 'pandas.core.frame.DataFrame'>\n",
      "Index: 1054911 entries, N0000001 to P08929\n",
      "Data columns (total 5 columns):\n",
      " #   Column    Non-Null Count    Dtype\n",
      "---  ------    --------------    -----\n",
      " 0   Gun       1054911 non-null  int64\n",
      " 1   Knife     1054911 non-null  int64\n",
      " 2   Wrench    1054911 non-null  int64\n",
      " 3   Pliers    1054911 non-null  int64\n",
      " 4   Scissors  1054911 non-null  int64\n",
      "dtypes: int64(5)\n",
      "memory usage: 48.3+ MB\n",
      "None\n"
     ]
    }
   ],
   "source": [
    "print(data.info())      # 1054911 all"
   ]
  },
  {
   "cell_type": "code",
   "execution_count": 9,
   "metadata": {},
   "outputs": [
    {
     "name": "stdout",
     "output_type": "stream",
     "text": [
      "          Gun  Knife  Wrench  Pliers  Scissors\n",
      "name                                          \n",
      "N0000001   -1     -1      -1      -1        -1\n",
      "N0000002   -1     -1      -1      -1        -1\n",
      "N0000003   -1     -1      -1      -1        -1\n",
      "N0000004   -1     -1      -1      -1        -1\n",
      "N0000005   -1     -1      -1      -1        -1\n",
      "...       ...    ...     ...     ...       ...\n",
      "N1050299   -1     -1      -1      -1        -1\n",
      "N1050300   -1     -1      -1      -1        -1\n",
      "N1050301   -1     -1      -1      -1        -1\n",
      "N1050302   -1     -1      -1      -1        -1\n",
      "P00007     -1      1      -1      -1        -1\n",
      "\n",
      "[1050303 rows x 5 columns]\n"
     ]
    }
   ],
   "source": [
    "print(data.head(1050303))    # 1050302 N"
   ]
  },
  {
   "cell_type": "code",
   "execution_count": 10,
   "metadata": {},
   "outputs": [],
   "source": [
    "data.to_csv(\"All.csv\")"
   ]
  }
 ],
 "metadata": {
  "kernelspec": {
   "display_name": "Python 3",
   "language": "python",
   "name": "python3"
  },
  "language_info": {
   "codemirror_mode": {
    "name": "ipython",
    "version": 3
   },
   "file_extension": ".py",
   "mimetype": "text/x-python",
   "name": "python",
   "nbconvert_exporter": "python",
   "pygments_lexer": "ipython3",
   "version": "3.7.3"
  }
 },
 "nbformat": 4,
 "nbformat_minor": 4
}
