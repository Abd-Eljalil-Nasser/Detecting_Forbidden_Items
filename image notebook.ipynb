{
 "cells": [
  {
   "cell_type": "markdown",
   "metadata": {},
   "source": [
    "# Description: \n",
    "-This program uses a TensorFlow-trained neural network to perform object detection.\n",
    "\n",
    "-It loads the classifier and uses it to perform object detection on an image.\n",
    "\n",
    "-It draws boxes, scores, and labels around the objects of interest in the image."
   ]
  },
  {
   "cell_type": "markdown",
   "metadata": {},
   "source": [
    "# Import important packages and define important paths"
   ]
  },
  {
   "cell_type": "code",
   "execution_count": 1,
   "metadata": {},
   "outputs": [],
   "source": [
    "import os\n",
    "import cv2\n",
    "import numpy as np\n",
    "import tensorflow as tf\n",
    "import sys\n",
    "import matplotlib.pyplot as plt\n",
    "import imutils\n",
    "\n",
    "from object_detection.utils import label_map_util\n",
    "from object_detection.utils import visualization_utils as vis_util\n",
    "\n",
    "# Name of the directory containing the object detection module we're using\n",
    "MODEL_NAME = 'inference_graph'\n",
    "\n",
    "# Grab path to current working directory\n",
    "CWD_PATH = os.getcwd()\n",
    "\n",
    "# Path to frozen detection graph .pb file, which contains the model that is used\n",
    "# for object detection.\n",
    "PATH_TO_CKPT = os.path.join(CWD_PATH,MODEL_NAME,'frozen_inference_graph.pb')\n",
    "\n",
    "# Path to label map file\n",
    "PATH_TO_LABELS = os.path.join(CWD_PATH,'training','labelmap.pbtxt')\n",
    "\n",
    "# Number of classes the object detector can identify\n",
    "NUM_CLASSES = 5"
   ]
  },
  {
   "cell_type": "markdown",
   "metadata": {},
   "source": [
    "# Load the label map.\n",
    "Here we use internal utility functions, but anything that returns a dictionary mapping integers to appropriate string labels would be fine"
   ]
  },
  {
   "cell_type": "code",
   "execution_count": 2,
   "metadata": {},
   "outputs": [
    {
     "name": "stdout",
     "output_type": "stream",
     "text": [
      "WARNING:tensorflow:From D:\\anaconda\\lib\\site-packages\\object_detection-0.1-py3.7.egg\\object_detection\\utils\\label_map_util.py:132: The name tf.gfile.GFile is deprecated. Please use tf.io.gfile.GFile instead.\n",
      "\n",
      "item {\n",
      "  name: \"Knife\"\n",
      "  id: 1\n",
      "}\n",
      "item {\n",
      "  name: \"Gun\"\n",
      "  id: 2\n",
      "}\n",
      "item {\n",
      "  name: \"Wrench\"\n",
      "  id: 3\n",
      "}\n",
      "item {\n",
      "  name: \"Pliers\"\n",
      "  id: 4\n",
      "}\n",
      "item {\n",
      "  name: \"Scissors\"\n",
      "  id: 5\n",
      "}\n",
      "\n",
      "[{'id': 1, 'name': 'Knife'}, {'id': 2, 'name': 'Gun'}, {'id': 3, 'name': 'Wrench'}, {'id': 4, 'name': 'Pliers'}, {'id': 5, 'name': 'Scissors'}]\n",
      "{1: {'id': 1, 'name': 'Knife'}, 2: {'id': 2, 'name': 'Gun'}, 3: {'id': 3, 'name': 'Wrench'}, 4: {'id': 4, 'name': 'Pliers'}, 5: {'id': 5, 'name': 'Scissors'}}\n"
     ]
    }
   ],
   "source": [
    "label_map = label_map_util.load_labelmap(PATH_TO_LABELS)\n",
    "print(label_map)\n",
    "\n",
    "categories = label_map_util.convert_label_map_to_categories(label_map, max_num_classes=NUM_CLASSES, use_display_name=True)\n",
    "print(categories)\n",
    "\n",
    "category_index = label_map_util.create_category_index(categories)\n",
    "print(category_index)"
   ]
  },
  {
   "cell_type": "markdown",
   "metadata": {},
   "source": [
    "# Load the Tensorflow model into memory."
   ]
  },
  {
   "cell_type": "code",
   "execution_count": 3,
   "metadata": {},
   "outputs": [],
   "source": [
    "# initialize the model\n",
    "detection_graph = tf.Graph()\n",
    "\n",
    "with detection_graph.as_default():\n",
    "    # initialize the graph definition\n",
    "    od_graph_def = tf.GraphDef()\n",
    "    \n",
    "    # load the graph from disk\n",
    "    with tf.gfile.GFile(PATH_TO_CKPT, 'rb') as f:\n",
    "        serialized_graph = f.read()\n",
    "        od_graph_def.ParseFromString(serialized_graph)\n",
    "        tf.import_graph_def(od_graph_def, name='')\n",
    "\n",
    "    sess = tf.Session(graph=detection_graph)"
   ]
  },
  {
   "cell_type": "markdown",
   "metadata": {},
   "source": [
    "# Define input and output tensors for the object detection classifier"
   ]
  },
  {
   "cell_type": "code",
   "execution_count": 4,
   "metadata": {},
   "outputs": [],
   "source": [
    "# Input tensor is the image\n",
    "image_tensor = detection_graph.get_tensor_by_name('image_tensor:0')\n",
    "\n",
    "# Output tensors are the detection boxes, scores, and classes\n",
    "\n",
    "# Each box represents a part of the image where a particular object was detected\n",
    "detection_boxes = detection_graph.get_tensor_by_name('detection_boxes:0')\n",
    "\n",
    "# Each score represents level of confidence for each of the objects.\n",
    "detection_scores = detection_graph.get_tensor_by_name('detection_scores:0')\n",
    "\n",
    "# The score is shown on the result image, together with the class label.\n",
    "detection_classes = detection_graph.get_tensor_by_name('detection_classes:0')\n",
    "\n",
    "# Number of objects detected\n",
    "num_detections = detection_graph.get_tensor_by_name('num_detections:0')"
   ]
  },
  {
   "cell_type": "markdown",
   "metadata": {},
   "source": [
    "# Let's start testing\n",
    "we will make a for loop to test a complete folder \n",
    "we will load image using OpenCV and expand image dimensions to have shape: [1, None, None, 3]\n",
    "i.e. a single-column array, where each item in the column has the pixel RGB value"
   ]
  },
  {
   "cell_type": "code",
   "execution_count": 6,
   "metadata": {},
   "outputs": [
    {
     "name": "stderr",
     "output_type": "stream",
     "text": [
      "100%|██████████| 20/20 [00:03<00:00,  6.24it/s]\n"
     ]
    }
   ],
   "source": [
    "from tqdm import tqdm\n",
    "path_to_images_folder = \"images for testing\"\n",
    "for i in tqdm(os.listdir(path_to_images_folder),total=len(os.listdir(path_to_images_folder))):\n",
    "#     print(i)\n",
    "    n=(i.split(\".\")[0])\n",
    "    image = cv2.imread(os.path.join(path_to_images_folder,i))\n",
    "    before=image.copy()\n",
    "    \n",
    "#     (H, W) = image.shape[:2]\n",
    "#     # check to see if we should resize along the width\n",
    "#     if W > H and W > 1000:\n",
    "#         image = imutils.resize(image, width=1000)\n",
    "#     # otherwise, check to see if we should resize along the\n",
    "#     # height\n",
    "#     elif H > W and H > 1000:\n",
    "#         image = imutils.resize(image, height=1000)\n",
    "        \n",
    "    image_rgb = cv2.cvtColor(image, cv2.COLOR_BGR2RGB)\n",
    "    image_expanded = np.expand_dims(image_rgb, axis=0)\n",
    "\n",
    "    # Perform the actual detection by running the model with the image as input\n",
    "    (boxes, scores, classes, num) = sess.run(\n",
    "        [detection_boxes, detection_scores, detection_classes, num_detections],\n",
    "        feed_dict={image_tensor: image_expanded})\n",
    "\n",
    "#     # Draw the results of the detection\n",
    "#     COLORS = np.random.uniform(0, 255, size=(NUM_CLASSES , 3))\n",
    "#     boxes = np.squeeze(boxes)\n",
    "#     scores = np.squeeze(scores)\n",
    "#     labels = np.squeeze(classes)\n",
    "    \n",
    "# #     print(classes)\n",
    "\n",
    "#     for (box, score, label) in (zip(boxes, scores, classes[0])):\n",
    "# #         print(box)\n",
    "#         if score < 0.6:\n",
    "#             continue\n",
    "\n",
    "#         (startY, startX, endY, endX) = box\n",
    "#         (H, W) = image.shape[:2]\n",
    "\n",
    "#         startX = int(startX * W)\n",
    "#         startY = int(startY * H)\n",
    "#         endX = int(endX * W)\n",
    "#         endY = int(endY * H)\n",
    "\n",
    "#         # draw the prediction on the output image\n",
    "#         label = category_index[label]\n",
    "#         idx = int(label[\"id\"]) - 1\n",
    "#         label = \"{}: {:.2f}\".format(label[\"name\"], score)\n",
    "#         cv2.rectangle(image, (startX, startY), (endX, endY),COLORS[idx], 5)\n",
    "#         y = startY - 10 if startY - 10 > 10 else startY + 10\n",
    "#         cv2.putText(image, label, (startX, y),cv2.FONT_HERSHEY_SIMPLEX, 0.7, COLORS[idx], 2)\n",
    "    \n",
    "    \n",
    "    \n",
    "    # Draw the results of the detection\n",
    "    vis_util.visualize_boxes_and_labels_on_image_array(\n",
    "        image,\n",
    "        np.squeeze(boxes),\n",
    "        np.squeeze(classes).astype(np.int32),\n",
    "        np.squeeze(scores),\n",
    "        category_index,\n",
    "        use_normalized_coordinates=True,\n",
    "        line_thickness=8,\n",
    "        min_score_thresh=0.6)\n",
    "    \n",
    "#     print(boxes.shape)\n",
    "    # All the results have been drawn on image. Now display the image.\n",
    "    name=n+\"-after.jpg\"\n",
    "    cv2.imwrite(name,image)\n",
    "#     cv2.imshow(\"images\", np.hstack([before, image]))\n",
    "#     cv2.waitKey(0)\n",
    "cv2.destroyAllWindows()"
   ]
  },
  {
   "cell_type": "code",
   "execution_count": null,
   "metadata": {},
   "outputs": [],
   "source": []
  }
 ],
 "metadata": {
  "kernelspec": {
   "display_name": "Python 3",
   "language": "python",
   "name": "python3"
  },
  "language_info": {
   "codemirror_mode": {
    "name": "ipython",
    "version": 3
   },
   "file_extension": ".py",
   "mimetype": "text/x-python",
   "name": "python",
   "nbconvert_exporter": "python",
   "pygments_lexer": "ipython3",
   "version": "3.7.3"
  }
 },
 "nbformat": 4,
 "nbformat_minor": 4
}
